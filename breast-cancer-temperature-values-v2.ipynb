{
 "cells": [
  {
   "cell_type": "code",
   "execution_count": 1,
   "id": "da32997d",
   "metadata": {
    "_cell_guid": "b1076dfc-b9ad-4769-8c92-a6c4dae69d19",
    "_uuid": "8f2839f25d086af736a60e9eeb907d3b93b6e0e5",
    "execution": {
     "iopub.execute_input": "2024-06-21T10:10:26.613826Z",
     "iopub.status.busy": "2024-06-21T10:10:26.613194Z",
     "iopub.status.idle": "2024-06-21T10:10:32.656964Z",
     "shell.execute_reply": "2024-06-21T10:10:32.655773Z"
    },
    "papermill": {
     "duration": 6.053993,
     "end_time": "2024-06-21T10:10:32.659564",
     "exception": false,
     "start_time": "2024-06-21T10:10:26.605571",
     "status": "completed"
    },
    "tags": []
   },
   "outputs": [],
   "source": [
    "import os\n",
    "import numpy as np\n",
    "import torch\n",
    "from torch import nn\n",
    "from torch.utils.data import Dataset, DataLoader\n",
    "from tqdm import tqdm\n",
    "from torchvision import models,transforms\n",
    "import torch.optim as optim\n",
    "from sklearn.model_selection import train_test_split"
   ]
  },
  {
   "cell_type": "code",
   "execution_count": 2,
   "id": "e6af9adc",
   "metadata": {
    "execution": {
     "iopub.execute_input": "2024-06-21T10:10:32.669024Z",
     "iopub.status.busy": "2024-06-21T10:10:32.668550Z",
     "iopub.status.idle": "2024-06-21T10:10:32.675001Z",
     "shell.execute_reply": "2024-06-21T10:10:32.674000Z"
    },
    "papermill": {
     "duration": 0.013619,
     "end_time": "2024-06-21T10:10:32.677224",
     "exception": false,
     "start_time": "2024-06-21T10:10:32.663605",
     "status": "completed"
    },
    "tags": []
   },
   "outputs": [],
   "source": [
    "# Function to read temperature values from a file\n",
    "def read_temperature_file(filepath):\n",
    "    try:\n",
    "        with open(filepath, 'r') as file:\n",
    "            lines = file.readlines()\n",
    "            data = []\n",
    "            for line in lines:\n",
    "                # Clean and split the line\n",
    "                line_data = line.strip().split()\n",
    "                # Convert to float and append\n",
    "                data.extend([float(val) for val in line_data])\n",
    "            return np.array(data)\n",
    "    except Exception as e:\n",
    "        print(f\"Error reading {filepath}: {e}\")\n",
    "        return None"
   ]
  },
  {
   "cell_type": "code",
   "execution_count": 3,
   "id": "38a75575",
   "metadata": {
    "execution": {
     "iopub.execute_input": "2024-06-21T10:10:32.685937Z",
     "iopub.status.busy": "2024-06-21T10:10:32.685609Z",
     "iopub.status.idle": "2024-06-21T10:10:32.691526Z",
     "shell.execute_reply": "2024-06-21T10:10:32.690482Z"
    },
    "papermill": {
     "duration": 0.012611,
     "end_time": "2024-06-21T10:10:32.693552",
     "exception": false,
     "start_time": "2024-06-21T10:10:32.680941",
     "status": "completed"
    },
    "tags": []
   },
   "outputs": [],
   "source": [
    "# Function to load temperature data and labels from a directory\n",
    "def load_data_from_directory(directory, label):\n",
    "    data = []\n",
    "    labels = []\n",
    "    for filename in os.listdir(directory):\n",
    "        filepath = os.path.join(directory, filename)\n",
    "        if filepath.endswith('.txt'):\n",
    "            temp_values = read_temperature_file(filepath)\n",
    "            if temp_values is not None:\n",
    "                data.append(temp_values)\n",
    "                labels.append(label)\n",
    "    return data, labels"
   ]
  },
  {
   "cell_type": "code",
   "execution_count": 4,
   "id": "db267ed4",
   "metadata": {
    "execution": {
     "iopub.execute_input": "2024-06-21T10:10:32.701906Z",
     "iopub.status.busy": "2024-06-21T10:10:32.701366Z",
     "iopub.status.idle": "2024-06-21T10:10:32.705920Z",
     "shell.execute_reply": "2024-06-21T10:10:32.704984Z"
    },
    "papermill": {
     "duration": 0.010821,
     "end_time": "2024-06-21T10:10:32.707838",
     "exception": false,
     "start_time": "2024-06-21T10:10:32.697017",
     "status": "completed"
    },
    "tags": []
   },
   "outputs": [],
   "source": [
    "training_healthy = '/kaggle/input/breast-cancer-temp-values/Breast_cancer_temp_values 2/Breast_cancer_temp_values/Single/Healthy/Training'\n",
    "testing_healthy = '/kaggle/input/breast-cancer-temp-values/Breast_cancer_temp_values 2/Breast_cancer_temp_values/Single/Healthy/Testing'\n",
    "training_sick = '/kaggle/input/breast-cancer-temp-values/Breast_cancer_temp_values 2/Breast_cancer_temp_values/Single/Sick/training'\n",
    "testing_sick = '/kaggle/input/breast-cancer-temp-values/Breast_cancer_temp_values 2/Breast_cancer_temp_values/Single/Sick/Testing'"
   ]
  },
  {
   "cell_type": "code",
   "execution_count": 5,
   "id": "36cc4d48",
   "metadata": {
    "execution": {
     "iopub.execute_input": "2024-06-21T10:10:32.715889Z",
     "iopub.status.busy": "2024-06-21T10:10:32.715570Z",
     "iopub.status.idle": "2024-06-21T10:10:39.348514Z",
     "shell.execute_reply": "2024-06-21T10:10:39.347089Z"
    },
    "papermill": {
     "duration": 6.63989,
     "end_time": "2024-06-21T10:10:39.351140",
     "exception": false,
     "start_time": "2024-06-21T10:10:32.711250",
     "status": "completed"
    },
    "tags": []
   },
   "outputs": [],
   "source": [
    "# Load data and labels\n",
    "train_data_healthy, train_labels_healthy = load_data_from_directory(training_healthy, 0)\n",
    "train_data_sick, train_labels_sick = load_data_from_directory(training_sick, 1)\n",
    "test_data_healthy, test_labels_healthy = load_data_from_directory(testing_healthy, 0)\n",
    "test_data_sick, test_labels_sick = load_data_from_directory(testing_sick, 1)\n",
    "\n",
    "# Combine healthy and sick data\n",
    "train_data = train_data_healthy + train_data_sick\n",
    "train_labels = train_labels_healthy + train_labels_sick\n",
    "test_data = test_data_healthy + test_data_sick\n",
    "test_labels = test_labels_healthy + test_labels_sick\n",
    "\n",
    "# Convert lists to numpy arrays\n",
    "train_data = np.array(train_data)\n",
    "train_labels = np.array(train_labels)\n",
    "test_data = np.array(test_data)\n",
    "test_labels = np.array(test_labels)"
   ]
  },
  {
   "cell_type": "code",
   "execution_count": 6,
   "id": "b30f9cf8",
   "metadata": {
    "execution": {
     "iopub.execute_input": "2024-06-21T10:10:39.359800Z",
     "iopub.status.busy": "2024-06-21T10:10:39.359454Z",
     "iopub.status.idle": "2024-06-21T10:10:39.414796Z",
     "shell.execute_reply": "2024-06-21T10:10:39.413517Z"
    },
    "papermill": {
     "duration": 0.062922,
     "end_time": "2024-06-21T10:10:39.417724",
     "exception": false,
     "start_time": "2024-06-21T10:10:39.354802",
     "status": "completed"
    },
    "tags": []
   },
   "outputs": [
    {
     "name": "stdout",
     "output_type": "stream",
     "text": [
      "Train data shape: (37, 307200)\n",
      "Validation data shape: (10, 307200)\n",
      "Test data shape: (10, 307200)\n"
     ]
    }
   ],
   "source": [
    "# Split the training data into training and validation sets (80-20 split)\n",
    "train_data, val_data, train_labels, val_labels = train_test_split(train_data, train_labels, test_size=0.2, random_state=42)\n",
    "\n",
    "print(f\"Train data shape: {train_data.shape}\")\n",
    "print(f\"Validation data shape: {val_data.shape}\")\n",
    "print(f\"Test data shape: {test_data.shape}\")"
   ]
  },
  {
   "cell_type": "code",
   "execution_count": 7,
   "id": "2b158ad9",
   "metadata": {
    "execution": {
     "iopub.execute_input": "2024-06-21T10:10:39.427270Z",
     "iopub.status.busy": "2024-06-21T10:10:39.426884Z",
     "iopub.status.idle": "2024-06-21T10:10:39.432888Z",
     "shell.execute_reply": "2024-06-21T10:10:39.431886Z"
    },
    "papermill": {
     "duration": 0.013248,
     "end_time": "2024-06-21T10:10:39.435033",
     "exception": false,
     "start_time": "2024-06-21T10:10:39.421785",
     "status": "completed"
    },
    "tags": []
   },
   "outputs": [],
   "source": [
    "# Define a PyTorch dataset\n",
    "class TemperatureDataset(Dataset):\n",
    "    def __init__(self, data, labels):\n",
    "        self.data = torch.tensor(data, dtype=torch.float32)\n",
    "        self.labels = torch.tensor(labels, dtype=torch.float32)\n",
    "\n",
    "    def __len__(self):\n",
    "        return len(self.data)\n",
    "\n",
    "    def __getitem__(self, idx):\n",
    "        return self.data[idx], self.labels[idx]"
   ]
  },
  {
   "cell_type": "code",
   "execution_count": 8,
   "id": "5ab9bc67",
   "metadata": {
    "execution": {
     "iopub.execute_input": "2024-06-21T10:10:39.444438Z",
     "iopub.status.busy": "2024-06-21T10:10:39.443551Z",
     "iopub.status.idle": "2024-06-21T10:10:39.506695Z",
     "shell.execute_reply": "2024-06-21T10:10:39.505632Z"
    },
    "papermill": {
     "duration": 0.070409,
     "end_time": "2024-06-21T10:10:39.509280",
     "exception": false,
     "start_time": "2024-06-21T10:10:39.438871",
     "status": "completed"
    },
    "tags": []
   },
   "outputs": [],
   "source": [
    "# Create datasets and dataloaders\n",
    "train_dataset = TemperatureDataset(train_data, train_labels)\n",
    "val_dataset = TemperatureDataset(val_data, val_labels)\n",
    "test_dataset = TemperatureDataset(test_data, test_labels)\n",
    "\n",
    "train_dataloader = DataLoader(train_dataset, batch_size=32, shuffle=True)\n",
    "val_dataloader = DataLoader(val_dataset, batch_size=32, shuffle=False)\n",
    "test_dataloader = DataLoader(test_dataset, batch_size=32, shuffle=False)\n"
   ]
  },
  {
   "cell_type": "code",
   "execution_count": 9,
   "id": "36868c8e",
   "metadata": {
    "execution": {
     "iopub.execute_input": "2024-06-21T10:10:39.518844Z",
     "iopub.status.busy": "2024-06-21T10:10:39.518094Z",
     "iopub.status.idle": "2024-06-21T10:10:40.440815Z",
     "shell.execute_reply": "2024-06-21T10:10:40.439834Z"
    },
    "papermill": {
     "duration": 0.929764,
     "end_time": "2024-06-21T10:10:40.442912",
     "exception": false,
     "start_time": "2024-06-21T10:10:39.513148",
     "status": "completed"
    },
    "tags": []
   },
   "outputs": [
    {
     "data": {
      "text/plain": [
       "ComplexNN(\n",
       "  (fc1): Linear(in_features=307200, out_features=256, bias=True)\n",
       "  (bn1): BatchNorm1d(256, eps=1e-05, momentum=0.1, affine=True, track_running_stats=True)\n",
       "  (drop1): Dropout(p=0.5, inplace=False)\n",
       "  (fc2): Linear(in_features=256, out_features=128, bias=True)\n",
       "  (bn2): BatchNorm1d(128, eps=1e-05, momentum=0.1, affine=True, track_running_stats=True)\n",
       "  (drop2): Dropout(p=0.5, inplace=False)\n",
       "  (fc3): Linear(in_features=128, out_features=64, bias=True)\n",
       "  (bn3): BatchNorm1d(64, eps=1e-05, momentum=0.1, affine=True, track_running_stats=True)\n",
       "  (drop3): Dropout(p=0.5, inplace=False)\n",
       "  (fc4): Linear(in_features=64, out_features=1, bias=True)\n",
       "  (sigmoid): Sigmoid()\n",
       ")"
      ]
     },
     "execution_count": 9,
     "metadata": {},
     "output_type": "execute_result"
    }
   ],
   "source": [
    "# Define a more complex neural network\n",
    "class ComplexNN(nn.Module):\n",
    "    def __init__(self, input_size):\n",
    "        super(ComplexNN, self).__init__()\n",
    "        self.fc1 = nn.Linear(input_size, 256)\n",
    "        self.bn1 = nn.BatchNorm1d(256)\n",
    "        self.drop1 = nn.Dropout(0.5)\n",
    "        self.fc2 = nn.Linear(256, 128)\n",
    "        self.bn2 = nn.BatchNorm1d(128)\n",
    "        self.drop2 = nn.Dropout(0.5)\n",
    "        self.fc3 = nn.Linear(128, 64)\n",
    "        self.bn3 = nn.BatchNorm1d(64)\n",
    "        self.drop3 = nn.Dropout(0.5)\n",
    "        self.fc4 = nn.Linear(64, 1)\n",
    "        self.sigmoid = nn.Sigmoid()\n",
    "\n",
    "    def forward(self, x):\n",
    "        x = torch.relu(self.bn1(self.fc1(x)))\n",
    "        x = self.drop1(x)\n",
    "        x = torch.relu(self.bn2(self.fc2(x)))\n",
    "        x = self.drop2(x)\n",
    "        x = torch.relu(self.bn3(self.fc3(x)))\n",
    "        x = self.drop3(x)\n",
    "        x = self.sigmoid(self.fc4(x))\n",
    "        return x\n",
    "\n",
    "# Initialize the model, loss function, and optimizer\n",
    "input_size = train_data.shape[1]\n",
    "model = ComplexNN(input_size)\n",
    "criterion = nn.BCELoss()\n",
    "optimizer = optim.Adam(model.parameters(), lr=0.001)\n",
    "device = torch.device('cuda' if torch.cuda.is_available() else 'cpu')\n",
    "model.to(device)"
   ]
  },
  {
   "cell_type": "code",
   "execution_count": 10,
   "id": "78f199c9",
   "metadata": {
    "execution": {
     "iopub.execute_input": "2024-06-21T10:10:40.452282Z",
     "iopub.status.busy": "2024-06-21T10:10:40.451908Z",
     "iopub.status.idle": "2024-06-21T10:11:07.643150Z",
     "shell.execute_reply": "2024-06-21T10:11:07.641793Z"
    },
    "papermill": {
     "duration": 27.198558,
     "end_time": "2024-06-21T10:11:07.645468",
     "exception": false,
     "start_time": "2024-06-21T10:10:40.446910",
     "status": "completed"
    },
    "tags": []
   },
   "outputs": [
    {
     "name": "stdout",
     "output_type": "stream",
     "text": [
      "Epoch 1/20, Train Loss: 0.6408, Val Loss: 20.0000, Val Accuracy: 80.00%\n",
      "Epoch 2/20, Train Loss: 0.5735, Val Loss: 3.1885, Val Accuracy: 80.00%\n",
      "Epoch 3/20, Train Loss: 0.5625, Val Loss: 2.7896, Val Accuracy: 80.00%\n",
      "Epoch 4/20, Train Loss: 0.5749, Val Loss: 2.6181, Val Accuracy: 80.00%\n",
      "Epoch 5/20, Train Loss: 0.5591, Val Loss: 2.3742, Val Accuracy: 80.00%\n",
      "Epoch 6/20, Train Loss: 0.6106, Val Loss: 2.3548, Val Accuracy: 80.00%\n",
      "Epoch 7/20, Train Loss: 0.5310, Val Loss: 2.1862, Val Accuracy: 80.00%\n",
      "Epoch 8/20, Train Loss: 0.6066, Val Loss: 2.0877, Val Accuracy: 80.00%\n",
      "Epoch 9/20, Train Loss: 0.5322, Val Loss: 1.9212, Val Accuracy: 80.00%\n",
      "Epoch 10/20, Train Loss: 0.6086, Val Loss: 1.5571, Val Accuracy: 80.00%\n",
      "Epoch 11/20, Train Loss: 0.4521, Val Loss: 1.3508, Val Accuracy: 80.00%\n",
      "Epoch 12/20, Train Loss: 0.5680, Val Loss: 1.0360, Val Accuracy: 80.00%\n",
      "Epoch 13/20, Train Loss: 0.4762, Val Loss: 0.8212, Val Accuracy: 80.00%\n",
      "Epoch 14/20, Train Loss: 0.4763, Val Loss: 0.5891, Val Accuracy: 80.00%\n",
      "Epoch 15/20, Train Loss: 0.4761, Val Loss: 0.4402, Val Accuracy: 80.00%\n",
      "Epoch 16/20, Train Loss: 0.4709, Val Loss: 0.3442, Val Accuracy: 80.00%\n",
      "Epoch 17/20, Train Loss: 0.4708, Val Loss: 0.2500, Val Accuracy: 80.00%\n",
      "Epoch 18/20, Train Loss: 0.3386, Val Loss: 0.2021, Val Accuracy: 90.00%\n",
      "Epoch 19/20, Train Loss: 0.4195, Val Loss: 0.1760, Val Accuracy: 90.00%\n",
      "Epoch 20/20, Train Loss: 0.4859, Val Loss: 0.1660, Val Accuracy: 90.00%\n"
     ]
    }
   ],
   "source": [
    "# Train and evaluate the model\n",
    "num_epochs = 20\n",
    "best_val_accuracy = 0.0\n",
    "\n",
    "for epoch in range(num_epochs):\n",
    "    model.train()\n",
    "    running_loss = 0.0\n",
    "    for data, labels in train_dataloader:\n",
    "        data, labels = data.to(device), labels.to(device)\n",
    "        optimizer.zero_grad()\n",
    "        outputs = model(data).squeeze()\n",
    "        loss = criterion(outputs, labels)\n",
    "        loss.backward()\n",
    "        optimizer.step()\n",
    "        running_loss += loss.item()\n",
    "\n",
    "    train_loss = running_loss / len(train_dataloader)\n",
    "\n",
    "    model.eval()\n",
    "    val_loss = 0.0\n",
    "    correct = 0\n",
    "    total = 0\n",
    "    with torch.no_grad():\n",
    "        for data, labels in val_dataloader:\n",
    "            data, labels = data.to(device), labels.to(device)\n",
    "            outputs = model(data).squeeze()\n",
    "            loss = criterion(outputs, labels)\n",
    "            val_loss += loss.item()\n",
    "            predicted = (outputs > 0.5).float()\n",
    "            total += labels.size(0)\n",
    "            correct += (predicted == labels).sum().item()\n",
    "    val_loss = val_loss / len(val_dataloader)\n",
    "    val_accuracy = 100 * correct / total\n",
    "\n",
    "    print(f\"Epoch {epoch+1}/{num_epochs}, Train Loss: {train_loss:.4f}, Val Loss: {val_loss:.4f}, Val Accuracy: {val_accuracy:.2f}%\")\n",
    "\n",
    "    # Save the best model based on validation accuracy\n",
    "    if val_accuracy > best_val_accuracy:\n",
    "        best_val_accuracy = val_accuracy\n",
    "        torch.save(model.state_dict(), 'best_model.pth')\n"
   ]
  },
  {
   "cell_type": "code",
   "execution_count": 11,
   "id": "fe1bb9fc",
   "metadata": {
    "execution": {
     "iopub.execute_input": "2024-06-21T10:11:07.656823Z",
     "iopub.status.busy": "2024-06-21T10:11:07.656477Z",
     "iopub.status.idle": "2024-06-21T10:11:07.931193Z",
     "shell.execute_reply": "2024-06-21T10:11:07.930157Z"
    },
    "papermill": {
     "duration": 0.28304,
     "end_time": "2024-06-21T10:11:07.933514",
     "exception": false,
     "start_time": "2024-06-21T10:11:07.650474",
     "status": "completed"
    },
    "tags": []
   },
   "outputs": [
    {
     "name": "stdout",
     "output_type": "stream",
     "text": [
      "Accuracy on test set: 60.00%\n"
     ]
    }
   ],
   "source": [
    "# Load the best model\n",
    "model.load_state_dict(torch.load('best_model.pth'))\n",
    "\n",
    "# Evaluate on the test set\n",
    "model.eval()\n",
    "correct = 0\n",
    "total = 0\n",
    "with torch.no_grad():\n",
    "    for data, labels in test_dataloader:\n",
    "        data, labels = data.to(device), labels.to(device)\n",
    "        outputs = model(data).squeeze()\n",
    "        predicted = (outputs > 0.5).float()\n",
    "        total += labels.size(0)\n",
    "        correct += (predicted == labels).sum().item()\n",
    "test_accuracy = 100 * correct / total\n",
    "print(f\"Accuracy on test set: {test_accuracy:.2f}%\")"
   ]
  },
  {
   "cell_type": "code",
   "execution_count": null,
   "id": "b3a8c219",
   "metadata": {
    "papermill": {
     "duration": 0.004666,
     "end_time": "2024-06-21T10:11:07.943227",
     "exception": false,
     "start_time": "2024-06-21T10:11:07.938561",
     "status": "completed"
    },
    "tags": []
   },
   "outputs": [],
   "source": []
  }
 ],
 "metadata": {
  "kaggle": {
   "accelerator": "none",
   "dataSources": [
    {
     "datasetId": 5205441,
     "sourceId": 8746340,
     "sourceType": "datasetVersion"
    }
   ],
   "dockerImageVersionId": 30732,
   "isGpuEnabled": false,
   "isInternetEnabled": true,
   "language": "python",
   "sourceType": "notebook"
  },
  "kernelspec": {
   "display_name": "Python 3",
   "language": "python",
   "name": "python3"
  },
  "language_info": {
   "codemirror_mode": {
    "name": "ipython",
    "version": 3
   },
   "file_extension": ".py",
   "mimetype": "text/x-python",
   "name": "python",
   "nbconvert_exporter": "python",
   "pygments_lexer": "ipython3",
   "version": "3.10.13"
  },
  "papermill": {
   "default_parameters": {},
   "duration": 45.094579,
   "end_time": "2024-06-21T10:11:09.171123",
   "environment_variables": {},
   "exception": null,
   "input_path": "__notebook__.ipynb",
   "output_path": "__notebook__.ipynb",
   "parameters": {},
   "start_time": "2024-06-21T10:10:24.076544",
   "version": "2.5.0"
  }
 },
 "nbformat": 4,
 "nbformat_minor": 5
}
